{
  "nbformat": 4,
  "nbformat_minor": 0,
  "metadata": {
    "colab": {
      "provenance": []
    },
    "kernelspec": {
      "display_name": "Python 3",
      "language": "python",
      "name": "python3"
    },
    "language_info": {
      "codemirror_mode": {
        "name": "ipython",
        "version": 3
      },
      "file_extension": ".py",
      "mimetype": "text/x-python",
      "name": "python",
      "nbconvert_exporter": "python",
      "pygments_lexer": "ipython3",
      "version": "3.7.3"
    }
  },
  "cells": [
    {
      "cell_type": "markdown",
      "metadata": {
        "id": "5_eFZpeoK7k2"
      },
      "source": [
        "# **Numpy**"
      ]
    },
    {
      "cell_type": "code",
      "metadata": {
        "id": "YEJ8DQ4QK7kx"
      },
      "source": [
        "import numpy as np\n",
        "import random\n",
        "import scipy.stats as sps\n",
        "import cv2"
      ],
      "execution_count": null,
      "outputs": []
    },
    {
      "cell_type": "markdown",
      "metadata": {
        "id": "hYXhVX0eK7k2"
      },
      "source": [
        "### **Задание 1**\n",
        "В первой задаче вам предлагается перемножить две квадратные матрицы двумя способами - без использования пакета ***numpy*** и с ним."
      ]
    },
    {
      "cell_type": "code",
      "metadata": {
        "id": "zJR8EANzK7k3",
        "colab": {
          "base_uri": "https://localhost:8080/"
        },
        "outputId": "41344c3a-7965-40bf-d353-20ab0fe2e66f"
      },
      "source": [
        "# Для генерации матриц используем фукнцию random -- она используется для генерации случайных объектов\n",
        "# функция sample создает случайную выборку. В качестве аргумента ей передается кортеж (i,j),\n",
        "# здесь i -- число строк, j -- число столбцов.\n",
        "a = np.random.sample((100, 100))\n",
        "b = np.random.sample((100, 100))\n",
        "# выведите размерность (ранг) каждой матрицы с помощью функции ndim.\n",
        "# Используйте функцию shape, что она вывела?\n",
        "# ========\n",
        "print(\"ранг a =\",a.ndim, \"\\nранг b =\", b.ndim)\n",
        "print(\"размер матрицы a =\",a.shape,\"\\nразмер матрицы b =\",b.shape)\n",
        "# ========\n",
        "print(a)\n",
        "print(b)"
      ],
      "execution_count": null,
      "outputs": [
        {
          "output_type": "stream",
          "name": "stdout",
          "text": [
            "ранг a = 2 \n",
            "ранг b = 2\n",
            "размер матрицы a = (100, 100) \n",
            "размер матрицы b = (100, 100)\n",
            "[[0.58015655 0.19169573 0.83229945 ... 0.03024394 0.34285245 0.9827727 ]\n",
            " [0.19648098 0.04879319 0.19803945 ... 0.17745441 0.29365467 0.73577412]\n",
            " [0.20155159 0.75839301 0.06221622 ... 0.40701187 0.94534876 0.56941156]\n",
            " ...\n",
            " [0.84400453 0.09415362 0.90166302 ... 0.06457979 0.45880575 0.24023844]\n",
            " [0.65527497 0.16414479 0.27521173 ... 0.31414126 0.33281071 0.94393731]\n",
            " [0.29583932 0.42301091 0.11955432 ... 0.8127968  0.04824725 0.39997135]]\n",
            "[[0.32018282 0.09040502 0.43721488 ... 0.53763607 0.92446622 0.53552865]\n",
            " [0.02313402 0.05436508 0.48961376 ... 0.22857983 0.41759154 0.24807399]\n",
            " [0.91423492 0.97304421 0.84614392 ... 0.25219032 0.50282422 0.3658917 ]\n",
            " ...\n",
            " [0.42658777 0.51911507 0.10508198 ... 0.49134722 0.68121936 0.3739822 ]\n",
            " [0.87780222 0.9378725  0.58514866 ... 0.3113496  0.8411716  0.97617702]\n",
            " [0.60653861 0.54630997 0.86904972 ... 0.39880104 0.89685904 0.28532264]]\n"
          ]
        }
      ]
    },
    {
      "cell_type": "markdown",
      "source": [
        "Без использования **numpy**"
      ],
      "metadata": {
        "id": "Ylmyxw_TQN9c"
      }
    },
    {
      "cell_type": "code",
      "source": [
        "def mult(a, b):\n",
        "  # Инициализируем результирующую матрицу нулями\n",
        "    result = [[0 for x in range(len(b[0]))] for y in range(len(a))]\n",
        "\n",
        "    # Выполняем умножение матриц\n",
        "    for i in range(len(a)):\n",
        "        for j in range(len(b[0])):\n",
        "            for k in range(len(b)):\n",
        "                result[i][j] += a[i][k] * b[k][j]\n",
        "\n",
        "    return result\n",
        "\n",
        "# Пример использования\n",
        "a = [[1, 2, 3], [4, 5, 6], [7, 8, 9]]\n",
        "b = [[9, 8, 7], [6, 5, 4], [3, 2, 1]]\n",
        "result = mult(a, b)\n",
        "print(result)"
      ],
      "metadata": {
        "colab": {
          "base_uri": "https://localhost:8080/"
        },
        "id": "bWu0trHwsvmY",
        "outputId": "771abd19-ef0d-4b82-e7e6-66d7215220d5"
      },
      "execution_count": null,
      "outputs": [
        {
          "output_type": "stream",
          "name": "stdout",
          "text": [
            "[[30, 24, 18], [84, 69, 54], [138, 114, 90]]\n"
          ]
        }
      ]
    },
    {
      "cell_type": "markdown",
      "source": [
        "C использованием **numpy**"
      ],
      "metadata": {
        "id": "J6stNvzmQa61"
      }
    },
    {
      "cell_type": "code",
      "metadata": {
        "id": "IIgYD1W5K7lB",
        "colab": {
          "base_uri": "https://localhost:8080/"
        },
        "outputId": "b67a8c9e-d22a-4ea0-e2a2-463b74d3abd8"
      },
      "source": [
        "a = np.array([[1, 2, 3], [4, 5, 6], [7, 8, 9]])\n",
        "b = np.array([[9, 8, 7], [6, 5, 4], [3, 2, 1]])\n",
        "\n",
        "def np_mult(a, b):\n",
        "    result = np.dot(a, b)\n",
        "    return result\n",
        "print(result)"
      ],
      "execution_count": null,
      "outputs": [
        {
          "output_type": "stream",
          "name": "stdout",
          "text": [
            "[[30, 24, 18], [84, 69, 54], [138, 114, 90]]\n"
          ]
        }
      ]
    },
    {
      "cell_type": "code",
      "metadata": {
        "id": "tktkYzUHK7lE",
        "colab": {
          "base_uri": "https://localhost:8080/"
        },
        "outputId": "d80fbafb-9225-4a5a-9c30-b5ed04d8d089"
      },
      "source": [
        "%%time\n",
        "# засечем время работы функции без NumPy\n",
        "M1 = mult(a, b)"
      ],
      "execution_count": null,
      "outputs": [
        {
          "output_type": "stream",
          "name": "stdout",
          "text": [
            "CPU times: user 74 µs, sys: 0 ns, total: 74 µs\n",
            "Wall time: 79.2 µs\n"
          ]
        }
      ]
    },
    {
      "cell_type": "code",
      "metadata": {
        "id": "TmD0adgHK7lK",
        "colab": {
          "base_uri": "https://localhost:8080/"
        },
        "outputId": "678ca8aa-6fdd-42cd-b4fa-db19c5dfe49f"
      },
      "source": [
        "%%time\n",
        "# засечем время работы функции с NumPy\n",
        "M2 = np_mult(a, b)"
      ],
      "execution_count": null,
      "outputs": [
        {
          "output_type": "stream",
          "name": "stdout",
          "text": [
            "CPU times: user 49 µs, sys: 6 µs, total: 55 µs\n",
            "Wall time: 60.3 µs\n"
          ]
        }
      ]
    },
    {
      "cell_type": "code",
      "metadata": {
        "id": "oftqyANQK7lS",
        "colab": {
          "base_uri": "https://localhost:8080/"
        },
        "outputId": "ea533ce3-0b17-4a31-b136-5a0bcd49dfe0"
      },
      "source": [
        "# проверим корректность\n",
        "np.abs(np.array(M1) - M2).sum()"
      ],
      "execution_count": null,
      "outputs": [
        {
          "output_type": "execute_result",
          "data": {
            "text/plain": [
              "0"
            ]
          },
          "metadata": {},
          "execution_count": 132
        }
      ]
    },
    {
      "cell_type": "markdown",
      "metadata": {
        "id": "2itTyTlcaHAu"
      },
      "source": [
        "### **Задание 2**"
      ]
    },
    {
      "cell_type": "markdown",
      "metadata": {
        "id": "BCemQSq-aEbO"
      },
      "source": [
        "Вам подаются на вход два вектора `a` и `b` в трехмерном пространстве. Заполните их случайными числами. Реализуйте их скалярное произведение с помощью  `NumPy` и без. Засеките время работы, как это показано в заданиях выше."
      ]
    },
    {
      "cell_type": "code",
      "metadata": {
        "id": "lWhr_gPSZ9o_",
        "colab": {
          "base_uri": "https://localhost:8080/"
        },
        "outputId": "b6116180-9a49-4839-cb35-1eabc08fd0c9"
      },
      "source": [
        "a = np.random.sample((1, 3))\n",
        "a = list(a)[0]\n",
        "b = np.random.sample((1, 3))\n",
        "b = list(b)[0]\n",
        "print(a, b)"
      ],
      "execution_count": 144,
      "outputs": [
        {
          "output_type": "stream",
          "name": "stdout",
          "text": [
            "[0.82140637 0.09170166 0.3345053 ] [0.60190498 0.49297985 0.29416488]\n"
          ]
        }
      ]
    },
    {
      "cell_type": "code",
      "metadata": {
        "id": "GjlkcHIWZ_ae"
      },
      "source": [
        "def scalar_product(a,b):\n",
        "    s = 0\n",
        "    for x, y in zip(a, b):\n",
        "        s += x * y\n",
        "    return s"
      ],
      "execution_count": 145,
      "outputs": []
    },
    {
      "cell_type": "code",
      "metadata": {
        "id": "C2M-OAp5Z_6a"
      },
      "source": [
        "def np_scalar_product(a,b):\n",
        "    s = np.dot(a, b)\n",
        "    return s"
      ],
      "execution_count": 146,
      "outputs": []
    },
    {
      "cell_type": "code",
      "metadata": {
        "id": "BOQfYf-2aCQJ",
        "scrolled": true,
        "colab": {
          "base_uri": "https://localhost:8080/"
        },
        "outputId": "d07f4730-5af8-480e-cc52-8eb1135380f0"
      },
      "source": [
        "%time product_1 = scalar_product(a,b)\n",
        "%time product_2 = np_scalar_product(a,b)\n",
        "# проверим корректность:\n",
        "np.abs(product_1 - product_2).sum()"
      ],
      "execution_count": 147,
      "outputs": [
        {
          "output_type": "stream",
          "name": "stdout",
          "text": [
            "CPU times: user 25 µs, sys: 4 µs, total: 29 µs\n",
            "Wall time: 31.2 µs\n",
            "CPU times: user 110 µs, sys: 15 µs, total: 125 µs\n",
            "Wall time: 129 µs\n"
          ]
        },
        {
          "output_type": "execute_result",
          "data": {
            "text/plain": [
              "0.0"
            ]
          },
          "metadata": {},
          "execution_count": 147
        }
      ]
    },
    {
      "cell_type": "markdown",
      "metadata": {
        "id": "NHaHu6q1K7mH"
      },
      "source": [
        "Почему методы ***numpy*** оказываются эффективнее? Что вы можете сказать о скорости вычислений в NumPy?"
      ]
    },
    {
      "cell_type": "markdown",
      "metadata": {
        "id": "_A3p2s4eK7mI"
      },
      "source": [
        "**Ответ:** Методы NumPy более **эффективны** по нескольким причинам. Во-первых, NumPy реализован на языке C, что позволяет выполнять вычисления быстрее по сравнению с чистым Python. Кроме того, NumPy использует непрерывное хранилище памяти и оптимизированные алгоритмы, сводя к минимуму накладные расходы и повышая производительность. NumPy также поддерживает векторизованные операции, которые могут обрабатывать несколько элементов одновременно, что снижает необходимость в явных циклах.\n",
        "\n",
        "**Что касается скорости**, NumPy известен своими возможностями быстрых вычислений. Он предлагает эффективные числовые операции, такие как манипуляции с массивами, математические функции и процедуры линейной алгебры. Используя оптимизированные библиотеки C и Fortran, NumPy может выполнять вычисления значительно быстрее, чем традиционный код Python, что делает его популярным выбором для научных и числовых вычислительных задач."
      ]
    },
    {
      "cell_type": "markdown",
      "metadata": {
        "id": "StLAtJ-tQlfR"
      },
      "source": [
        "------------------"
      ]
    },
    {
      "cell_type": "markdown",
      "metadata": {
        "id": "mJXeUuznK7lm"
      },
      "source": [
        "### **Задание 3**\n",
        "Напишите функцию, которая находим сумму четных диагональныех элементов квадратной матрицы. Если таких элементов нет, то вывести `0`."
      ]
    },
    {
      "cell_type": "code",
      "metadata": {
        "id": "MjxKxv-bQlfW"
      },
      "source": [
        "# функция, решающая задачу с помощью NumPy\n",
        "def np_diag_2k(a):\n",
        "  diag_one = np.diag(a).tolist()\n",
        "  matrix = np.fliplr(a)\n",
        "  diag_two = np.diag(matrix).tolist()\n",
        "  *res, = filter(lambda x: int(x) % 2 == 0, (diag_one + diag_two))\n",
        "  return sum(res)"
      ],
      "execution_count": 161,
      "outputs": []
    },
    {
      "cell_type": "code",
      "metadata": {
        "id": "h_oazhcNQlfZ",
        "colab": {
          "base_uri": "https://localhost:8080/"
        },
        "outputId": "3e891d8f-e2f3-45a0-92e0-6204547198c7"
      },
      "source": [
        "# зададим некоторую квадратную матрицу\n",
        "a = np.random.randint(1, 10, size=(5, 5))\n",
        "a"
      ],
      "execution_count": 158,
      "outputs": [
        {
          "output_type": "execute_result",
          "data": {
            "text/plain": [
              "array([[8, 8, 9, 3, 7],\n",
              "       [6, 4, 8, 3, 4],\n",
              "       [8, 2, 6, 9, 2],\n",
              "       [6, 5, 3, 9, 5],\n",
              "       [3, 4, 1, 4, 1]])"
            ]
          },
          "metadata": {},
          "execution_count": 158
        }
      ]
    },
    {
      "cell_type": "code",
      "metadata": {
        "id": "_9jg1CuWQlfc",
        "colab": {
          "base_uri": "https://localhost:8080/"
        },
        "outputId": "d5331ed3-1b52-4761-a1f8-a3bec45ce2e1"
      },
      "source": [
        "%%time\n",
        "# засечем время работы функции с NumPy\n",
        "np_diag_2k(a)"
      ],
      "execution_count": 156,
      "outputs": [
        {
          "output_type": "stream",
          "name": "stdout",
          "text": [
            "CPU times: user 104 µs, sys: 0 ns, total: 104 µs\n",
            "Wall time: 110 µs\n"
          ]
        },
        {
          "output_type": "execute_result",
          "data": {
            "text/plain": [
              "26"
            ]
          },
          "metadata": {},
          "execution_count": 156
        }
      ]
    },
    {
      "cell_type": "markdown",
      "metadata": {
        "id": "D-N46M-tQlff"
      },
      "source": [
        "### **Задание 4**\n",
        "На вход дан двумерный массив $X$. Напишите функцию, которая для каждой строчки $x = (x_1, x_2, \\ldots, x_n)$ массива $X$  строит строчку $s = (s_1, s_2, \\ldots, s_n)$, где $s_k=\\frac{x_1+...+x_k}{k}$, а затем выдаёт массив из построенных строчек. Используйте библиотеку numpy (вам поможет функция cumsum). Выходом функции должен быть двумерный массив той же формы, что и $X$."
      ]
    },
    {
      "cell_type": "code",
      "source": [
        "# функция, решающая задачу с помощью NumPy\n",
        "def np_sec_av(A):\n",
        "    x = A.shape[1]\n",
        "    cumsum = np.cumsum(A, axis=1)\n",
        "    val = np.arange(1, x + 1).reshape(1, x)\n",
        "    return cumsum / val"
      ],
      "metadata": {
        "id": "cOgnFDiO3Tk2"
      },
      "execution_count": 198,
      "outputs": []
    },
    {
      "cell_type": "code",
      "source": [
        "# зададим некоторую последовательность и проверим ее на ваших функциях.\n",
        "# функция должна работать ~ в 50 раз быстрее, чем без Numpy\n",
        "A = np.random.uniform(0, 1, size = (10**3, 5))\n",
        "A"
      ],
      "metadata": {
        "colab": {
          "base_uri": "https://localhost:8080/"
        },
        "id": "RcA0Z2FP3Y0I",
        "outputId": "8a5cfecb-e18a-486a-c90a-e312c2db32c6"
      },
      "execution_count": 204,
      "outputs": [
        {
          "output_type": "execute_result",
          "data": {
            "text/plain": [
              "array([[0.38832423, 0.14570828, 0.84066722, 0.94187959, 0.957545  ],\n",
              "       [0.29712881, 0.99880901, 0.39778514, 0.9941051 , 0.27448456],\n",
              "       [0.82002785, 0.20593213, 0.7063466 , 0.79148818, 0.88287113],\n",
              "       ...,\n",
              "       [0.41090894, 0.91662962, 0.79875842, 0.91040884, 0.36883711],\n",
              "       [0.10150537, 0.03921204, 0.04427059, 0.93464651, 0.8446774 ],\n",
              "       [0.7693284 , 0.5235816 , 0.63578829, 0.52365484, 0.75357812]])"
            ]
          },
          "metadata": {},
          "execution_count": 204
        }
      ]
    },
    {
      "cell_type": "code",
      "source": [
        "%time S2 = np_sec_av(A)\n",
        "S2"
      ],
      "metadata": {
        "colab": {
          "base_uri": "https://localhost:8080/"
        },
        "id": "kDB23Iby8BEB",
        "outputId": "d3af929b-f564-4868-c325-5abc27708ace"
      },
      "execution_count": 205,
      "outputs": [
        {
          "output_type": "stream",
          "name": "stdout",
          "text": [
            "CPU times: user 569 µs, sys: 0 ns, total: 569 µs\n",
            "Wall time: 580 µs\n"
          ]
        },
        {
          "output_type": "execute_result",
          "data": {
            "text/plain": [
              "array([[0.38832423, 0.26701626, 0.45823325, 0.57914483, 0.65482487],\n",
              "       [0.29712881, 0.64796891, 0.56457432, 0.67195702, 0.59246252],\n",
              "       [0.82002785, 0.51297999, 0.57743552, 0.63094869, 0.68133318],\n",
              "       ...,\n",
              "       [0.41090894, 0.66376928, 0.70876566, 0.75917645, 0.68110858],\n",
              "       [0.10150537, 0.0703587 , 0.06166267, 0.27990863, 0.39286238],\n",
              "       [0.7693284 , 0.646455  , 0.64289943, 0.61308829, 0.64118625]])"
            ]
          },
          "metadata": {},
          "execution_count": 205
        }
      ]
    },
    {
      "cell_type": "markdown",
      "metadata": {
        "id": "2InIez3ZQlfw"
      },
      "source": [
        "### **Задание 5**\n",
        "Написать функцию для кодирование массива (Run-length encoding). Все подряд повторения элементов функция сжимает в один элемент и считает количество повторений. Функция возвращает кортеж из двух векторов одинаковой длины. Первый содержит элементы, а второй — сколько раз их нужно повторить.\n",
        "\n",
        "**Пример:** encode(np.array([1, 2, 2, 3, 3, 1, 1, 5, 5, 2, 3, 3])) = (np.array[1, 2, 3, 1, 5, 2, 3]), np.array[1, 2, 2, 2, 2, 1, 2])"
      ]
    },
    {
      "cell_type": "code",
      "metadata": {
        "id": "3G4DKWeoQlfx"
      },
      "source": [
        "# функция, решающая задачу с помощью NumPy\n",
        "def np_encode(a):\n",
        "    unique_values, value_counts = np.unique(a, return_counts=True)\n",
        "    return unique_values, value_counts"
      ],
      "execution_count": 180,
      "outputs": []
    },
    {
      "cell_type": "code",
      "metadata": {
        "id": "zMaDQdNBQlf0",
        "colab": {
          "base_uri": "https://localhost:8080/"
        },
        "outputId": "3f280d58-d83d-4188-938e-34fd5363ae8b"
      },
      "source": [
        "from itertools import groupby\n",
        "X = np.array([1, 2, 2, 3, 3, 1, 1, 5, 5, 2, 3, 3])\n",
        "%time x, num = np_encode(X)\n",
        "x, num"
      ],
      "execution_count": 181,
      "outputs": [
        {
          "output_type": "stream",
          "name": "stdout",
          "text": [
            "CPU times: user 197 µs, sys: 0 ns, total: 197 µs\n",
            "Wall time: 203 µs\n"
          ]
        },
        {
          "output_type": "execute_result",
          "data": {
            "text/plain": [
              "(array([1, 2, 3, 5]), array([3, 3, 4, 2]))"
            ]
          },
          "metadata": {},
          "execution_count": 181
        }
      ]
    },
    {
      "cell_type": "markdown",
      "metadata": {
        "id": "teVCPWZmK7l5"
      },
      "source": [
        "### **Задание 6**\n",
        "\n",
        "Пусть задан некоторый одномерный массив $X$. Надо построить новый массив, где все элементы с нечетными индексами требуется заменить на число $a$ (если оно не указано, то на 1). Все элементы с четными индексами нужно возвести в куб. Затем записать элементы в обратном порядке относительно их позиций. Массив $X$ при этом должен остаться *без изменений*. В конце требуется слить массив X с преобразованным X и вывести в обратном порядке.  \n",
        "\n",
        "**Пример:**  \n",
        "X = [100, 200, 300, 400, 500] -> [100, a, 300, a, 500] -> [500^3, a, 300^3, a, 100^3] -> склеиваем -> [100, 200, 300, 400, 500, 500^3, a, 300^3, a, 100^3]"
      ]
    },
    {
      "cell_type": "code",
      "metadata": {
        "id": "0hmcvfDVK7l-"
      },
      "source": [
        "# функция, решающая задачу с помощью NumPy\n",
        "from copy import copy\n",
        "\n",
        "def np_transformation(X, a=1):\n",
        "    \"\"\"\n",
        "    param X: array\n",
        "    \"\"\"\n",
        "    modified_X = X.copy()\n",
        "    modified_X[1::2] = a  # Замена элементов с нечетными индексами на a\n",
        "    modified_X[::2] **= 3  # Возведение элементов с четными индексами в куб\n",
        "    reversed_modified_X = modified_X[::-1]  # Обратный порядок элементов\n",
        "\n",
        "    merged_array = np.concatenate((X, reversed_modified_X))  # Слияние массивов\n",
        "    result = merged_array[::-1]  # Вывод в обратном порядке\n",
        "\n",
        "    return result"
      ],
      "execution_count": 182,
      "outputs": []
    },
    {
      "cell_type": "code",
      "metadata": {
        "id": "r2-JLMhxK7mE",
        "scrolled": true,
        "colab": {
          "base_uri": "https://localhost:8080/"
        },
        "outputId": "c2e9d8a5-8cb0-4a05-8eff-fe12f5c1a7db"
      },
      "source": [
        "X = np.array([i for i in range(1, 10, 2)])\n",
        "# функция должна работать ~ в 20 раз быстрее, чем без Numpy\n",
        "%time S2 = np_transformation(X, 3)\n",
        "S2"
      ],
      "execution_count": 186,
      "outputs": [
        {
          "output_type": "stream",
          "name": "stdout",
          "text": [
            "CPU times: user 100 µs, sys: 13 µs, total: 113 µs\n",
            "Wall time: 119 µs\n"
          ]
        },
        {
          "output_type": "execute_result",
          "data": {
            "text/plain": [
              "array([  1,   3, 125,   3, 729,   9,   7,   5,   3,   1])"
            ]
          },
          "metadata": {},
          "execution_count": 186
        }
      ]
    }
  ]
}