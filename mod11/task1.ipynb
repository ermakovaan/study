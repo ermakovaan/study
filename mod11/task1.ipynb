{
  "nbformat": 4,
  "nbformat_minor": 0,
  "metadata": {
    "colab": {
      "provenance": []
    },
    "kernelspec": {
      "display_name": "Python 3",
      "language": "python",
      "name": "python3"
    },
    "language_info": {
      "codemirror_mode": {
        "name": "ipython",
        "version": 3
      },
      "file_extension": ".py",
      "mimetype": "text/x-python",
      "name": "python",
      "nbconvert_exporter": "python",
      "pygments_lexer": "ipython3",
      "version": "3.7.3"
    }
  },
  "cells": [
    {
      "cell_type": "markdown",
      "metadata": {
        "id": "5_eFZpeoK7k2"
      },
      "source": [
        "# **Numpy**"
      ]
    },
    {
      "cell_type": "code",
      "metadata": {
        "id": "YEJ8DQ4QK7kx"
      },
      "source": [
        "import numpy as np\n",
        "import random\n",
        "import scipy.stats as sps\n",
        "import cv2"
      ],
      "execution_count": 1,
      "outputs": []
    },
    {
      "cell_type": "markdown",
      "metadata": {
        "id": "hYXhVX0eK7k2"
      },
      "source": [
        "### **Задание 1**\n",
        "В первой задаче вам предлагается перемножить две квадратные матрицы двумя способами - без использования пакета ***numpy*** и с ним."
      ]
    },
    {
      "cell_type": "code",
      "metadata": {
        "id": "zJR8EANzK7k3",
        "colab": {
          "base_uri": "https://localhost:8080/"
        },
        "outputId": "41344c3a-7965-40bf-d353-20ab0fe2e66f"
      },
      "source": [
        "# Для генерации матриц используем фукнцию random -- она используется для генерации случайных объектов\n",
        "# функция sample создает случайную выборку. В качестве аргумента ей передается кортеж (i,j),\n",
        "# здесь i -- число строк, j -- число столбцов.\n",
        "a = np.random.sample((100, 100))\n",
        "b = np.random.sample((100, 100))\n",
        "# выведите размерность (ранг) каждой матрицы с помощью функции ndim.\n",
        "# Используйте функцию shape, что она вывела?\n",
        "# ========\n",
        "print(\"ранг a =\",a.ndim, \"\\nранг b =\", b.ndim)\n",
        "print(\"размер матрицы a =\",a.shape,\"\\nразмер матрицы b =\",b.shape)\n",
        "# ========\n",
        "print(a)\n",
        "print(b)"
      ],
      "execution_count": null,
      "outputs": [
        {
          "output_type": "stream",
          "name": "stdout",
          "text": [
            "ранг a = 2 \n",
            "ранг b = 2\n",
            "размер матрицы a = (100, 100) \n",
            "размер матрицы b = (100, 100)\n",
            "[[0.58015655 0.19169573 0.83229945 ... 0.03024394 0.34285245 0.9827727 ]\n",
            " [0.19648098 0.04879319 0.19803945 ... 0.17745441 0.29365467 0.73577412]\n",
            " [0.20155159 0.75839301 0.06221622 ... 0.40701187 0.94534876 0.56941156]\n",
            " ...\n",
            " [0.84400453 0.09415362 0.90166302 ... 0.06457979 0.45880575 0.24023844]\n",
            " [0.65527497 0.16414479 0.27521173 ... 0.31414126 0.33281071 0.94393731]\n",
            " [0.29583932 0.42301091 0.11955432 ... 0.8127968  0.04824725 0.39997135]]\n",
            "[[0.32018282 0.09040502 0.43721488 ... 0.53763607 0.92446622 0.53552865]\n",
            " [0.02313402 0.05436508 0.48961376 ... 0.22857983 0.41759154 0.24807399]\n",
            " [0.91423492 0.97304421 0.84614392 ... 0.25219032 0.50282422 0.3658917 ]\n",
            " ...\n",
            " [0.42658777 0.51911507 0.10508198 ... 0.49134722 0.68121936 0.3739822 ]\n",
            " [0.87780222 0.9378725  0.58514866 ... 0.3113496  0.8411716  0.97617702]\n",
            " [0.60653861 0.54630997 0.86904972 ... 0.39880104 0.89685904 0.28532264]]\n"
          ]
        }
      ]
    },
    {
      "cell_type": "markdown",
      "source": [
        "Без использования **numpy**"
      ],
      "metadata": {
        "id": "Ylmyxw_TQN9c"
      }
    },
    {
      "cell_type": "code",
      "source": [
        "def matrix_multiply(matrix_a: list[list[(int, float)]], matrix_b: list[list[(int, float)]]) -> list[list[(int, float)]]:\n",
        "    \"\"\"\n",
        "    Умножение двух квадратных матриц без использования библиотеки NumPy.\n",
        "\n",
        "    Аргументы:\n",
        "    - matrix_a: Первая матрица.\n",
        "    - matrix_b: Вторая матрица.\n",
        "    \"\"\"\n",
        "    size = len(matrix_a)\n",
        "    result = [[0 for _ in range(size)] for _ in range(size)]\n",
        "\n",
        "    for i in range(size):\n",
        "        for j in range(size):\n",
        "            for k in range(size):\n",
        "                result[i][j] += matrix_a[i][k] * matrix_b[k][j]\n",
        "\n",
        "    return result\n",
        "\n",
        "\n",
        "result_without_numpy = matrix_multiply(matrix_a=[[1, 2, 3], [4, 5, 6], [7, 8, 9]], matrix_b=[[9, 8, 7], [6, 5, 4], [3, 2, 1]])\n",
        "print(result_without_numpy)"
      ],
      "metadata": {
        "colab": {
          "base_uri": "https://localhost:8080/"
        },
        "id": "bWu0trHwsvmY",
        "outputId": "a71eb283-a1ec-4e6c-fcf1-6c9ede168e8e"
      },
      "execution_count": 16,
      "outputs": [
        {
          "output_type": "stream",
          "name": "stdout",
          "text": [
            "[[30, 24, 18], [84, 69, 54], [138, 114, 90]]\n"
          ]
        }
      ]
    },
    {
      "cell_type": "markdown",
      "source": [
        "C использованием **numpy**"
      ],
      "metadata": {
        "id": "J6stNvzmQa61"
      }
    },
    {
      "cell_type": "code",
      "metadata": {
        "id": "IIgYD1W5K7lB",
        "colab": {
          "base_uri": "https://localhost:8080/"
        },
        "outputId": "5cca03bf-832c-4c89-a1cd-a02f22cc9613"
      },
      "source": [
        "def matrix_multiply_np(matrix_a: list[list[(int, float)]], matrix_b: list[list[(int, float)]]) -> list[list[(int, float)]]:\n",
        "    \"\"\"\n",
        "    Умножение двух квадратных матриц с использованием библиотеки NumPy.\n",
        "\n",
        "    Аргументы:\n",
        "    - matrix_a: Первая матрица.\n",
        "    - matrix_b: Вторая матрица.\n",
        "    \"\"\"\n",
        "    result = np.dot(matrix_a, matrix_b)\n",
        "\n",
        "    return result\n",
        "\n",
        "\n",
        "result_with_numpy = matrix_multiply_np(matrix_a=np.array([[1, 2, 3], [4, 5, 6], [7, 8, 9]]), matrix_b=np.array([[9, 8, 7], [6, 5, 4], [3, 2, 1]]))\n",
        "print(result_with_numpy)"
      ],
      "execution_count": 19,
      "outputs": [
        {
          "output_type": "stream",
          "name": "stdout",
          "text": [
            "[[ 30  24  18]\n",
            " [ 84  69  54]\n",
            " [138 114  90]]\n"
          ]
        }
      ]
    },
    {
      "cell_type": "code",
      "metadata": {
        "id": "tktkYzUHK7lE",
        "colab": {
          "base_uri": "https://localhost:8080/"
        },
        "outputId": "3b8d2dbe-ec33-4a6a-bf3c-2458933e6e9a"
      },
      "source": [
        "%%time\n",
        "# засечем время работы функции без NumPy\n",
        "M1 = matrix_multiply(matrix_a=[[1, 2, 3], [4, 5, 6], [7, 8, 9]], matrix_b=[[9, 8, 7], [6, 5, 4], [3, 2, 1]])"
      ],
      "execution_count": 20,
      "outputs": [
        {
          "output_type": "stream",
          "name": "stdout",
          "text": [
            "CPU times: user 27 µs, sys: 3 µs, total: 30 µs\n",
            "Wall time: 35.3 µs\n"
          ]
        }
      ]
    },
    {
      "cell_type": "code",
      "metadata": {
        "id": "TmD0adgHK7lK",
        "colab": {
          "base_uri": "https://localhost:8080/"
        },
        "outputId": "0eaffbf8-5273-47f0-ca10-e38cdd891e5f"
      },
      "source": [
        "%%time\n",
        "# засечем время работы функции с NumPy\n",
        "M2 = matrix_multiply_np(matrix_a=np.array([[1, 2, 3], [4, 5, 6], [7, 8, 9]]), matrix_b=np.array([[9, 8, 7], [6, 5, 4], [3, 2, 1]]))"
      ],
      "execution_count": 21,
      "outputs": [
        {
          "output_type": "stream",
          "name": "stdout",
          "text": [
            "CPU times: user 338 µs, sys: 793 µs, total: 1.13 ms\n",
            "Wall time: 1.15 ms\n"
          ]
        }
      ]
    },
    {
      "cell_type": "code",
      "metadata": {
        "id": "oftqyANQK7lS",
        "colab": {
          "base_uri": "https://localhost:8080/"
        },
        "outputId": "a722a2d7-17db-480d-c405-e46032ef1ad7"
      },
      "source": [
        "# проверим корректность\n",
        "np.abs(np.array(M1) - M2).sum()"
      ],
      "execution_count": 22,
      "outputs": [
        {
          "output_type": "execute_result",
          "data": {
            "text/plain": [
              "0"
            ]
          },
          "metadata": {},
          "execution_count": 22
        }
      ]
    },
    {
      "cell_type": "markdown",
      "metadata": {
        "id": "2itTyTlcaHAu"
      },
      "source": [
        "### **Задание 2**"
      ]
    },
    {
      "cell_type": "markdown",
      "metadata": {
        "id": "BCemQSq-aEbO"
      },
      "source": [
        "Вам подаются на вход два вектора `a` и `b` в трехмерном пространстве. Заполните их случайными числами. Реализуйте их скалярное произведение с помощью  `NumPy` и без. Засеките время работы, как это показано в заданиях выше."
      ]
    },
    {
      "cell_type": "code",
      "metadata": {
        "id": "lWhr_gPSZ9o_",
        "colab": {
          "base_uri": "https://localhost:8080/"
        },
        "outputId": "bf69cff4-4b86-47b9-e5e4-b0806b39aabd"
      },
      "source": [
        "a = np.random.sample((1, 3))\n",
        "a = list(a)[0]\n",
        "b = np.random.sample((1, 3))\n",
        "b = list(b)[0]\n",
        "print(a, b)"
      ],
      "execution_count": 29,
      "outputs": [
        {
          "output_type": "stream",
          "name": "stdout",
          "text": [
            "[0.31642943 0.8806064  0.61240425] [0.18472059 0.78937272 0.69450196]\n"
          ]
        }
      ]
    },
    {
      "cell_type": "code",
      "metadata": {
        "id": "GjlkcHIWZ_ae"
      },
      "source": [
        "def scalar_product(a,b):\n",
        "    s = 0\n",
        "    for x, y in zip(a, b):\n",
        "        s += x * y\n",
        "    return s"
      ],
      "execution_count": 30,
      "outputs": []
    },
    {
      "cell_type": "code",
      "metadata": {
        "id": "C2M-OAp5Z_6a"
      },
      "source": [
        "def np_scalar_product(a,b):\n",
        "    s = np.dot(a, b)\n",
        "    return s"
      ],
      "execution_count": 31,
      "outputs": []
    },
    {
      "cell_type": "code",
      "metadata": {
        "id": "BOQfYf-2aCQJ",
        "scrolled": true,
        "colab": {
          "base_uri": "https://localhost:8080/"
        },
        "outputId": "1f8bc0b8-f0ef-4a65-c7a3-adc9daf19ba8"
      },
      "source": [
        "%time product_1 = scalar_product(a,b)\n",
        "%time product_2 = np_scalar_product(a,b)\n",
        "# проверим корректность:\n",
        "np.abs(product_1 - product_2).sum()"
      ],
      "execution_count": 32,
      "outputs": [
        {
          "output_type": "stream",
          "name": "stdout",
          "text": [
            "CPU times: user 24 µs, sys: 3 µs, total: 27 µs\n",
            "Wall time: 31.5 µs\n",
            "CPU times: user 159 µs, sys: 22 µs, total: 181 µs\n",
            "Wall time: 356 µs\n"
          ]
        },
        {
          "output_type": "execute_result",
          "data": {
            "text/plain": [
              "0.0"
            ]
          },
          "metadata": {},
          "execution_count": 32
        }
      ]
    },
    {
      "cell_type": "markdown",
      "metadata": {
        "id": "NHaHu6q1K7mH"
      },
      "source": [
        "Почему методы ***numpy*** оказываются эффективнее? Что вы можете сказать о скорости вычислений в NumPy?"
      ]
    },
    {
      "cell_type": "markdown",
      "metadata": {
        "id": "_A3p2s4eK7mI"
      },
      "source": [
        "**Ответ:** Методы NumPy более **эффективны** по нескольким причинам. Во-первых, NumPy реализован на языке C, что позволяет выполнять вычисления быстрее по сравнению с чистым Python. Кроме того, NumPy использует непрерывное хранилище памяти и оптимизированные алгоритмы, сводя к минимуму накладные расходы и повышая производительность. NumPy также поддерживает векторизованные операции, которые могут обрабатывать несколько элементов одновременно, что снижает необходимость в явных циклах.\n",
        "\n",
        "**Что касается скорости**, NumPy известен своими возможностями быстрых вычислений. Он предлагает эффективные числовые операции, такие как манипуляции с массивами, математические функции и процедуры линейной алгебры. Используя оптимизированные библиотеки C и Fortran, NumPy может выполнять вычисления значительно быстрее, чем традиционный код Python, что делает его популярным выбором для научных и числовых вычислительных задач."
      ]
    },
    {
      "cell_type": "markdown",
      "metadata": {
        "id": "StLAtJ-tQlfR"
      },
      "source": [
        "------------------"
      ]
    },
    {
      "cell_type": "markdown",
      "metadata": {
        "id": "mJXeUuznK7lm"
      },
      "source": [
        "### **Задание 3**\n",
        "Напишите функцию, которая находим сумму четных диагональныех элементов квадратной матрицы. Если таких элементов нет, то вывести `0`."
      ]
    },
    {
      "cell_type": "code",
      "metadata": {
        "id": "MjxKxv-bQlfW"
      },
      "source": [
        "# функция, решающая задачу с помощью NumPy\n",
        "def np_diag_2k(a):\n",
        "    diag_elements = np.diagonal(a)\n",
        "    even_diag_elements = diag_elements[diag_elements % 2 == 0]\n",
        "    res = even_diag_elements.sum() if even_diag_elements.size > 0 else 0\n",
        "\n",
        "    return res"
      ],
      "execution_count": 26,
      "outputs": []
    },
    {
      "cell_type": "code",
      "metadata": {
        "id": "h_oazhcNQlfZ",
        "colab": {
          "base_uri": "https://localhost:8080/"
        },
        "outputId": "2e12cbce-9c4d-41fd-ef58-a62b021a65a9"
      },
      "source": [
        "# зададим некоторую квадратную матрицу\n",
        "a = np.random.randint(1, 10, size=(5, 5))\n",
        "a"
      ],
      "execution_count": 27,
      "outputs": [
        {
          "output_type": "execute_result",
          "data": {
            "text/plain": [
              "array([[7, 3, 4, 5, 9],\n",
              "       [6, 2, 8, 8, 2],\n",
              "       [3, 2, 4, 5, 1],\n",
              "       [2, 6, 5, 9, 3],\n",
              "       [6, 9, 3, 8, 1]])"
            ]
          },
          "metadata": {},
          "execution_count": 27
        }
      ]
    },
    {
      "cell_type": "code",
      "metadata": {
        "id": "_9jg1CuWQlfc",
        "colab": {
          "base_uri": "https://localhost:8080/"
        },
        "outputId": "c94408e9-40cf-43f4-e23f-f4bd0262620c"
      },
      "source": [
        "%%time\n",
        "# засечем время работы функции с NumPy\n",
        "result = np_diag_2k(a)\n",
        "print(\"Сумма четных диагональных элементов:\", result)"
      ],
      "execution_count": 28,
      "outputs": [
        {
          "output_type": "stream",
          "name": "stdout",
          "text": [
            "Сумма четных диагональных элементов: 6\n",
            "CPU times: user 1.62 ms, sys: 0 ns, total: 1.62 ms\n",
            "Wall time: 1.64 ms\n"
          ]
        }
      ]
    },
    {
      "cell_type": "markdown",
      "metadata": {
        "id": "D-N46M-tQlff"
      },
      "source": [
        "### **Задание 4**\n",
        "На вход дан двумерный массив $X$. Напишите функцию, которая для каждой строчки $x = (x_1, x_2, \\ldots, x_n)$ массива $X$  строит строчку $s = (s_1, s_2, \\ldots, s_n)$, где $s_k=\\frac{x_1+...+x_k}{k}$, а затем выдаёт массив из построенных строчек. Используйте библиотеку numpy (вам поможет функция cumsum). Выходом функции должен быть двумерный массив той же формы, что и $X$."
      ]
    },
    {
      "cell_type": "code",
      "source": [
        "# функция, решающая задачу с помощью NumPy\n",
        "def np_sec_av(A):\n",
        "    x = A.shape[1]\n",
        "    cumsum = np.cumsum(A, axis=1)\n",
        "    val = np.arange(1, x + 1).reshape(1, x)\n",
        "    return cumsum / val"
      ],
      "metadata": {
        "id": "cOgnFDiO3Tk2"
      },
      "execution_count": 36,
      "outputs": []
    },
    {
      "cell_type": "code",
      "source": [
        "# зададим некоторую последовательность и проверим ее на ваших функциях.\n",
        "# функция должна работать ~ в 50 раз быстрее, чем без Numpy\n",
        "A = np.random.uniform(0, 1, size = (10**3, 5))\n",
        "A"
      ],
      "metadata": {
        "colab": {
          "base_uri": "https://localhost:8080/"
        },
        "id": "RcA0Z2FP3Y0I",
        "outputId": "f9fa6678-3090-49c9-f66c-c608d3d60426"
      },
      "execution_count": 38,
      "outputs": [
        {
          "output_type": "execute_result",
          "data": {
            "text/plain": [
              "array([[0.82841886, 0.91602844, 0.34352664, 0.95806383, 0.97230779],\n",
              "       [0.06714408, 0.25699066, 0.90066144, 0.14388723, 0.24096063],\n",
              "       [0.53676847, 0.47144426, 0.21515086, 0.73032996, 0.023708  ],\n",
              "       ...,\n",
              "       [0.2396483 , 0.80552444, 0.71444938, 0.32520058, 0.21033781],\n",
              "       [0.85203261, 0.74344961, 0.7920398 , 0.26612456, 0.88640118],\n",
              "       [0.00314792, 0.08025192, 0.84256902, 0.54582415, 0.03859836]])"
            ]
          },
          "metadata": {},
          "execution_count": 38
        }
      ]
    },
    {
      "cell_type": "code",
      "source": [
        "%time S2 = np_sec_av(A)\n",
        "S2# функция, решающая задачу с помощью NumPy"
      ],
      "metadata": {
        "colab": {
          "base_uri": "https://localhost:8080/"
        },
        "id": "kDB23Iby8BEB",
        "outputId": "6a1b8c74-4418-40f3-9728-6cfa04a1be54"
      },
      "execution_count": 39,
      "outputs": [
        {
          "output_type": "stream",
          "name": "stdout",
          "text": [
            "CPU times: user 1.14 ms, sys: 19 µs, total: 1.16 ms\n",
            "Wall time: 1.17 ms\n"
          ]
        },
        {
          "output_type": "execute_result",
          "data": {
            "text/plain": [
              "array([[0.82841886, 0.87222365, 0.69599131, 0.76150944, 0.80366911],\n",
              "       [0.06714408, 0.16206737, 0.40826539, 0.34217085, 0.32192881],\n",
              "       [0.53676847, 0.50410636, 0.40778786, 0.48842339, 0.39548031],\n",
              "       ...,\n",
              "       [0.2396483 , 0.52258637, 0.58654071, 0.52120568, 0.4590321 ],\n",
              "       [0.85203261, 0.79774111, 0.79584067, 0.66341165, 0.70800955],\n",
              "       [0.00314792, 0.04169992, 0.30865629, 0.36794825, 0.30207828]])"
            ]
          },
          "metadata": {},
          "execution_count": 39
        }
      ]
    },
    {
      "cell_type": "markdown",
      "metadata": {
        "id": "2InIez3ZQlfw"
      },
      "source": [
        "### **Задание 5**\n",
        "Написать функцию для кодирование массива (Run-length encoding). Все подряд повторения элементов функция сжимает в один элемент и считает количество повторений. Функция возвращает кортеж из двух векторов одинаковой длины. Первый содержит элементы, а второй — сколько раз их нужно повторить.\n",
        "\n",
        "**Пример:** encode(np.array([1, 2, 2, 3, 3, 1, 1, 5, 5, 2, 3, 3])) = (np.array[1, 2, 3, 1, 5, 2, 3]), np.array[1, 2, 2, 2, 2, 1, 2])"
      ]
    },
    {
      "cell_type": "code",
      "metadata": {
        "id": "3G4DKWeoQlfx"
      },
      "source": [
        "def np_encode(a):\n",
        "    elements = []\n",
        "    counts = []\n",
        "\n",
        "    for key, group in groupby(a):\n",
        "        elements.append(key)\n",
        "        counts.append(len(list(group)))\n",
        "\n",
        "    elements_array = np.array(elements)\n",
        "    counts_array = np.array(counts)\n",
        "\n",
        "    return elements_array, counts_array"
      ],
      "execution_count": 49,
      "outputs": []
    },
    {
      "cell_type": "code",
      "metadata": {
        "id": "zMaDQdNBQlf0",
        "colab": {
          "base_uri": "https://localhost:8080/"
        },
        "outputId": "a9fac656-da2a-40e2-9222-c9e7f79a2154"
      },
      "source": [
        "from itertools import groupby\n",
        "X = np.array([1, 2, 2, 3, 3, 1, 1, 5, 5, 2, 3, 3])\n",
        "%time x, num = np_encode(X)\n",
        "x, num = np_encode(X)\n",
        "print(x, num)"
      ],
      "execution_count": 50,
      "outputs": [
        {
          "output_type": "stream",
          "name": "stdout",
          "text": [
            "CPU times: user 45 µs, sys: 6 µs, total: 51 µs\n",
            "Wall time: 54.6 µs\n",
            "[1 2 3 1 5 2 3] [1 2 2 2 2 1 2]\n"
          ]
        }
      ]
    },
    {
      "cell_type": "markdown",
      "metadata": {
        "id": "teVCPWZmK7l5"
      },
      "source": [
        "### **Задание 6**\n",
        "\n",
        "Пусть задан некоторый одномерный массив $X$. Надо построить новый массив, где все элементы с нечетными индексами требуется заменить на число $a$ (если оно не указано, то на 1). Все элементы с четными индексами нужно возвести в куб. Затем записать элементы в обратном порядке относительно их позиций. Массив $X$ при этом должен остаться *без изменений*. В конце требуется слить массив X с преобразованным X и вывести в обратном порядке.  \n",
        "\n",
        "**Пример:**  \n",
        "X = [100, 200, 300, 400, 500] -> [100, a, 300, a, 500] -> [500^3, a, 300^3, a, 100^3] -> склеиваем -> [100, 200, 300, 400, 500, 500^3, a, 300^3, a, 100^3]"
      ]
    },
    {
      "cell_type": "code",
      "metadata": {
        "id": "0hmcvfDVK7l-"
      },
      "source": [
        "# функция, решающая задачу с помощью NumPy\n",
        "from copy import copy\n",
        "\n",
        "def np_transformation(X, a=1):\n",
        "    \"\"\"\n",
        "    param X: array\n",
        "    \"\"\"\n",
        "    transformed_X = X.copy()\n",
        "    transformed_X[1::2] = a\n",
        "    transformed_X[::2] **= 3\n",
        "    reversed_transformed_X = transformed_X[::-1]\n",
        "    result = np.concatenate((X, reversed_transformed_X[::-1]))\n",
        "\n",
        "    return result"
      ],
      "execution_count": 55,
      "outputs": []
    },
    {
      "cell_type": "code",
      "metadata": {
        "id": "r2-JLMhxK7mE",
        "scrolled": true,
        "colab": {
          "base_uri": "https://localhost:8080/"
        },
        "outputId": "2dfed65f-f7db-44a7-b241-98df50d86a67"
      },
      "source": [
        "X = np.array([i for i in range(1, 10, 2)])\n",
        "# функция должна работать ~ в 20 раз быстрее, чем без Numpy\n",
        "%time S2 = np_transformation(X, 3)\n",
        "S2"
      ],
      "execution_count": 56,
      "outputs": [
        {
          "output_type": "stream",
          "name": "stdout",
          "text": [
            "CPU times: user 80 µs, sys: 0 ns, total: 80 µs\n",
            "Wall time: 84.4 µs\n"
          ]
        },
        {
          "output_type": "execute_result",
          "data": {
            "text/plain": [
              "array([  1,   3,   5,   7,   9,   1,   3, 125,   3, 729])"
            ]
          },
          "metadata": {},
          "execution_count": 56
        }
      ]
    }
  ]
}